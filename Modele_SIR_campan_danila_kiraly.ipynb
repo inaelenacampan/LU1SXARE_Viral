{
 "cells": [
  {
   "cell_type": "markdown",
   "id": "ceaa9c8d",
   "metadata": {},
   "source": [
    "# Recherche (partie I): le modele SIR"
   ]
  },
  {
   "cell_type": "markdown",
   "id": "54b00bf2",
   "metadata": {},
   "source": [
    "<div class=\"alert alert-block alert-info\">\n",
    "<li>Prénoms et noms: Ina Campan / Catalina Danila / Dorka Kiraly\n",
    "<li>Groupe: ARE Viral G2\n",
    "</div>"
   ]
  },
  {
   "cell_type": "code",
   "execution_count": 1,
   "id": "305b4029",
   "metadata": {},
   "outputs": [],
   "source": [
    "import matplotlib.pyplot as plt\n",
    "import numpy as np\n",
    "import math\n",
    "import scipy\n",
    "from scipy.integrate import odeint\n",
    "from scipy.optimize import fsolve\n",
    "from numpy import linalg"
   ]
  },
  {
   "cell_type": "markdown",
   "id": "20fc18b9",
   "metadata": {},
   "source": [
    "<div class=\"alert alert-block alert-warning\">\n",
    "    Les equations du <b><code>modele SIR</code></b> sont:\n",
    "     \n",
    "$$S'(t) = -\\alpha S(t)I(t)\\\\\n",
    "I'(t) = \\alpha S(t)I(t) - \\beta I(t)\\\\\n",
    "R'(t) = \\beta I(t)$$\n",
    "    "
   ]
  },
  {
   "cell_type": "markdown",
   "id": "d8a9072a",
   "metadata": {},
   "source": [
    "<div class=\"alert alert-block alert-warning\">\n",
    "    On note que la <b><code>dynamique de la classe infectieuse</code></b> dépend du rapport suivant:\n",
    "     \n",
    "$$\\\\R_0 = \\frac {\\alpha} {\\beta}\n",
    "$$\n"
   ]
  },
  {
   "cell_type": "markdown",
   "id": "1cd964c9",
   "metadata": {},
   "source": [
    "<div class=\"alert alert-block alert-warning\">\n",
    "    <b>Attention:</b> on a considéré aussi que <b><code>la population totale (N) est constante</code></b>."
   ]
  },
  {
   "cell_type": "code",
   "execution_count": 2,
   "id": "cae3e07c",
   "metadata": {},
   "outputs": [],
   "source": [
    "#fonction calculant les composantes du systeme\n",
    "def SIR(y, t, alpha, beta):\n",
    "    S, I, R = y\n",
    "    return np.array([-alpha*S*I,alpha*S*I - beta*I, beta*I])"
   ]
  },
  {
   "cell_type": "code",
   "execution_count": 3,
   "id": "1b9d609d",
   "metadata": {},
   "outputs": [],
   "source": [
    "#fonction calculant la matrice jacobienne du systeme\n",
    "def matrice_jacobienne(y0, alpha, beta):\n",
    "    A = np.zeros((3,3))\n",
    "    S, I, R = y0\n",
    "    A[0,0] = -alpha*I\n",
    "    A[0,1] = -alpha*S\n",
    "    A[0,2] = 0\n",
    "    A[1,0] = alpha*I\n",
    "    A[1,1] = alpha*S - beta\n",
    "    A[1,2] = 0\n",
    "    A[2,0] = 0\n",
    "    A[2,1] = beta\n",
    "    A[2,2] = 0\n",
    "    return A"
   ]
  },
  {
   "cell_type": "code",
   "execution_count": 4,
   "id": "8f46dcb2",
   "metadata": {},
   "outputs": [],
   "source": [
    "T = 150\n",
    "N = 1000\n",
    "temps = [T*i/N for i in range(N+1)]"
   ]
  },
  {
   "cell_type": "code",
   "execution_count": 5,
   "id": "e20003ab",
   "metadata": {},
   "outputs": [],
   "source": [
    "y0 = [0.96, 0.04, 0.] #on utilise des pourcentages de la population, divisee en compartiments\n",
    "alpha = .4\n",
    "beta = .25\n",
    "beta2 = .30\n",
    "#Cas n°1: S0 > beta/alpha --> il y a une epidemie\n",
    "#convergence de R vers 1/R0 et de I vers 0"
   ]
  },
  {
   "cell_type": "code",
   "execution_count": 6,
   "id": "1af66d82",
   "metadata": {},
   "outputs": [],
   "source": [
    "Sol1 = scipy.integrate.odeint(SIR,y0,temps,args=(alpha,beta))\n",
    "S, I, R = Sol1.T\n",
    "Sol2 = scipy.integrate.odeint(SIR,y0,temps,args=(alpha,beta2))\n",
    "S2, I2, R2 = Sol2.T"
   ]
  },
  {
   "cell_type": "code",
   "execution_count": 7,
   "id": "41e43d0e",
   "metadata": {},
   "outputs": [
    {
     "data": {
      "image/png": "[encoded data removed]",
      "text/plain": [
       "<Figure size 432x288 with 1 Axes>"
      ]
     },
     "metadata": {
      "needs_background": "light"
     },
     "output_type": "display_data"
    }
   ],
   "source": [
    "plt.plot(temps,S, 'blue', label = 'Sains')\n",
    "plt.plot(temps,I, 'red', label = 'Infectés')\n",
    "plt.plot(temps,R, 'green', label = 'Guéris (Recovered)')\n",
    "\n",
    "plt.plot(temps,S2, 'violet', label = 'Sains - 2')\n",
    "plt.plot(temps,I2, 'yellow', label = 'Infectés - 2')\n",
    "plt.plot(temps,R2, 'black', label = 'Guéris (Recovered) - 2')\n",
    "#on observe l'effet d'un changement minore de parametre\n",
    "\n",
    "plt.grid()\n",
    "plt.title(\"Systeme SIR\")\n",
    "\n",
    "plt.xlabel('Temps')\n",
    "plt.ylabel('Population')\n",
    "plt.legend()\n",
    "\n",
    "plt.show()"
   ]
  },
  {
   "cell_type": "code",
   "execution_count": 8,
   "id": "792d71ef",
   "metadata": {},
   "outputs": [
    {
     "data": {
      "text/plain": [
       "(array([0.   +0.j        , 0.059+0.02278157j, 0.059-0.02278157j]),\n",
       " array([[ 0.        +0.j        ,  0.76861514+0.j        ,\n",
       "          0.76861514-0.j        ],\n",
       "        [ 0.        +0.j        , -0.15012014-0.04559964j,\n",
       "         -0.15012014+0.04559964j],\n",
       "        [ 1.        +0.j        , -0.61849499+0.04559964j,\n",
       "         -0.61849499-0.04559964j]]))"
      ]
     },
     "execution_count": 8,
     "metadata": {},
     "output_type": "execute_result"
    }
   ],
   "source": [
    "M1 = matrice_jacobienne(y0, alpha, beta)\n",
    "linalg.eig(M1)\n",
    "#2 valeurs propres complexes, une valeur propre = 0"
   ]
  },
  {
   "cell_type": "code",
   "execution_count": 9,
   "id": "f677683f",
   "metadata": {},
   "outputs": [
    {
     "data": {
      "image/png": "[encoded data removed]",
      "text/plain": [
       "<Figure size 432x288 with 1 Axes>"
      ]
     },
     "metadata": {
      "needs_background": "light"
     },
     "output_type": "display_data"
    }
   ],
   "source": [
    "#points d'equilibres\n",
    "ytest = [0.625, 0., 0.375]\n",
    "Sol = scipy.integrate.odeint(SIR,ytest,temps,args=(alpha,beta))\n",
    "S, I, R = Sol.T\n",
    "plt.plot(temps,S, 'blue', label = 'Sains')\n",
    "plt.plot(temps,I, 'red', label = 'Infectés')\n",
    "plt.plot(temps,R, 'green', label = 'Guéris (Recovered)')\n",
    "plt.grid()\n",
    "plt.title(\"Systeme SIR\")\n",
    "\n",
    "plt.xlabel('Temps')\n",
    "plt.ylabel('Population')\n",
    "plt.legend()\n",
    "\n",
    "plt.show()"
   ]
  },
  {
   "cell_type": "code",
   "execution_count": 10,
   "id": "1ffa4c0a",
   "metadata": {},
   "outputs": [
    {
     "data": {
      "text/plain": [
       "(array([-0.,  0.,  0.]),\n",
       " array([[ 1.00000000e+000,  0.00000000e+000,  7.07106781e-001],\n",
       "        [ 0.00000000e+000,  0.00000000e+000,  8.50296623e-292],\n",
       "        [ 0.00000000e+000,  1.00000000e+000, -7.07106781e-001]]))"
      ]
     },
     "execution_count": 10,
     "metadata": {},
     "output_type": "execute_result"
    }
   ],
   "source": [
    "M2 = matrice_jacobienne(ytest, alpha, beta)\n",
    "linalg.eig(M2)"
   ]
  },
  {
   "cell_type": "code",
   "execution_count": 11,
   "id": "87981e0b",
   "metadata": {},
   "outputs": [
    {
     "data": {
      "image/png": "[encoded data removed]",
      "text/plain": [
       "<Figure size 432x288 with 1 Axes>"
      ]
     },
     "metadata": {
      "needs_background": "light"
     },
     "output_type": "display_data"
    }
   ],
   "source": [
    "alpha = 1/3\n",
    "beta = 2\n",
    "#Cas n°2: S0 < beta/alpha --> il y a pas une epidemie\n",
    "\n",
    "Sol = scipy.integrate.odeint(SIR,y0,temps,args=(alpha,beta))\n",
    "S, I, R = Sol.T\n",
    "\n",
    "plt.plot(temps,S, 'blue', label = 'Sains')\n",
    "plt.plot(temps,I, 'red', label = 'Infectes')\n",
    "plt.plot(temps,R, 'green', label = 'Gueris (Recovered)')\n",
    "plt.grid()\n",
    "plt.title(\"Systeme SIR\")\n",
    "\n",
    "plt.xlabel('Temps')\n",
    "plt.ylabel('Population')\n",
    "plt.legend()\n",
    "\n",
    "plt.show()"
   ]
  },
  {
   "cell_type": "code",
   "execution_count": 12,
   "id": "90338d0a",
   "metadata": {},
   "outputs": [],
   "source": [
    "M3 = matrice_jacobienne(y0, alpha, beta)"
   ]
  },
  {
   "cell_type": "code",
   "execution_count": 13,
   "id": "7d2bd367",
   "metadata": {},
   "outputs": [
    {
     "data": {
      "text/plain": [
       "(array([ 0.        , -1.67743606, -0.01589728]),\n",
       " array([[ 0.        , -0.12263956, -0.70426848],\n",
       "        [ 0.        , -0.63776509, -0.00564283],\n",
       "        [ 1.        ,  0.76040465,  0.70991131]]))"
      ]
     },
     "execution_count": 13,
     "metadata": {},
     "output_type": "execute_result"
    }
   ],
   "source": [
    "linalg.eig(M3)\n",
    "#deux valeurs propres negatives + une valeur prope egale a 0 --> constantes"
   ]
  }
 ],
 "metadata": {
  "kernelspec": {
   "display_name": "Python 3",
   "language": "python",
   "name": "python3"
  },
  "language_info": {
   "codemirror_mode": {
    "name": "ipython",
    "version": 3
   },
   "file_extension": ".py",
   "mimetype": "text/x-python",
   "name": "python",
   "nbconvert_exporter": "python",
   "pygments_lexer": "ipython3",
   "version": "3.8.8"
  }
 },
 "nbformat": 4,
 "nbformat_minor": 5
}
